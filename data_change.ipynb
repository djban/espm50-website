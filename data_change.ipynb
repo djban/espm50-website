{
 "cells": [
  {
   "cell_type": "code",
   "execution_count": 3,
   "metadata": {},
   "outputs": [],
   "source": [
    "import re\n",
    "import pandas as pd\n",
    "import json\n",
    "import matplotlib.pyplot as plt\n",
    "from matplotlib.colors import to_hex"
   ]
  },
  {
   "cell_type": "code",
   "execution_count": 4,
   "metadata": {},
   "outputs": [],
   "source": [
    "\n",
    "#Updates json file. Once this is done, copy the output_updated_json.json file into the link below to convert to javascript variable.\n",
    "# Then paste it into mapdata.js to update the map.\n",
    "# https://www.convertsimple.com/convert-json-to-javascript/\n",
    "\n",
    "with open('test.json', 'r') as file1:\n",
    "    json_data1 = json.load(file1)\n",
    "\n",
    "df = pd.read_csv('combined_data.csv')\n",
    "\n",
    "\n",
    "percent_gdp_per_co2 = {state_name: df['% of GDP'][i] for i, state_name in enumerate(df['State'])}\n",
    "export = {state_name: df['Largest Export Product'][i] for i, state_name in enumerate(df['State'])}\n",
    "totalco2 = {state_name: df['CO2'][i] for i, state_name in enumerate(df['State'])}\n",
    "\n",
    "\n",
    "#Update the \"state_specific\" section with values and set colors\n",
    "for state_code, state_info in json_data1['state_specific'].items():\n",
    "    state_name = state_info['name']\n",
    "    \n",
    "    # Check if the state is in the \"percent_gdp_per_co2\" data\n",
    "    if state_name in percent_gdp_per_co2:\n",
    "        # Update the description with \"Percent GDP per CO2\"\n",
    "        state_info['description'] = f\"Percent GDP per CO2: {percent_gdp_per_co2[state_name]} <br> Major Export: {export[state_name]} <br> Total CO2: {totalco2[state_name]}\"\n",
    "\n",
    "        # Interpolate colors based on the value\n",
    "        normalized_value = (percent_gdp_per_co2[state_name] - 0) / (30 - 0)  # Adjust the range based on your data\n",
    "        color = plt.cm.plasma(normalized_value)\n",
    "        hex_color = to_hex(color)\n",
    "        state_info['color'] = hex_color\n",
    "\n",
    "# Save the updated JSON\n",
    "with open('output_updated_json.json', 'w') as output_file:\n",
    "    json.dump(json_data1, output_file, indent=2)\n"
   ]
  },
  {
   "cell_type": "code",
   "execution_count": null,
   "metadata": {},
   "outputs": [],
   "source": []
  },
  {
   "cell_type": "code",
   "execution_count": null,
   "metadata": {},
   "outputs": [],
   "source": []
  },
  {
   "cell_type": "code",
   "execution_count": null,
   "metadata": {},
   "outputs": [],
   "source": []
  }
 ],
 "metadata": {
  "kernelspec": {
   "display_name": "Python 3 (ipykernel)",
   "language": "python",
   "name": "python3"
  },
  "language_info": {
   "codemirror_mode": {
    "name": "ipython",
    "version": 3
   },
   "file_extension": ".py",
   "mimetype": "text/x-python",
   "name": "python",
   "nbconvert_exporter": "python",
   "pygments_lexer": "ipython3",
   "version": "3.10.0"
  }
 },
 "nbformat": 4,
 "nbformat_minor": 2
}
